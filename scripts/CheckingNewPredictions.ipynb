{
 "cells": [
  {
   "cell_type": "code",
   "execution_count": 1,
   "id": "1a7c6e56",
   "metadata": {},
   "outputs": [],
   "source": [
    "import pandas as pd\n",
    "import glob\n",
    "import warnings\n",
    "warnings.filterwarnings('ignore')\n",
    "import sys\n",
    "import os\n",
    "import numpy as np\n",
    "import matplotlib.pyplot as plt\n",
    "import seaborn as sns\n",
    "from scipy import stats\n",
    "import json\n",
    "from LabelAlis import LabelAlis\n",
    "from scipy.stats import spearmanr\n",
    "\n",
    "Coverage_Of_PfamChoppedStruct = 0\n",
    "Coverage_Of_PfamOnQueryPosThresh = 0.25\n",
    "FalsePositiveThreshold = 0.25"
   ]
  },
  {
   "cell_type": "code",
   "execution_count": 4,
   "id": "c0cc0c88",
   "metadata": {},
   "outputs": [],
   "source": [
    "def SplitTargetSeedInfo(PdSeries):\n",
    "    AlnPfDf = PdSeries.str.split(\"_\", expand=True)\n",
    "    AlnPfDf.columns = [\"targetprot\", \"targetprotstart\",\"targetprotend\",\"predpf\"]\n",
    "    AlnPfDf[\"targetprotstart\"] = AlnPfDf[\"targetprotstart\"].astype(int)\n",
    "    AlnPfDf[\"targetprotend\"] = AlnPfDf[\"targetprotend\"].astype(int)\n",
    "    return AlnPfDf"
   ]
  },
  {
   "cell_type": "code",
   "execution_count": 5,
   "id": "99bcf10e",
   "metadata": {},
   "outputs": [],
   "source": [
    "def ExpandSeedAnns(AlnPfDf, pfClans):\n",
    "    AlnPfDf = pd.concat([AlnPfDf, SplitTargetSeedInfo(AlnPfDf['target']) ], axis=1) \n",
    "    return AlnPfDf"
   ]
  },
  {
   "cell_type": "code",
   "execution_count": 6,
   "id": "711a5f44",
   "metadata": {},
   "outputs": [],
   "source": [
    "def filter_bits(df, bits):\n",
    "    return df[df[\"bits\"]>= bits]\n",
    "def filter_bits_alnlen(df, bits_alnlen):\n",
    "    return df[df[\"bits__alnlen\"]>=bits_alnlen]"
   ]
  },
  {
   "cell_type": "code",
   "execution_count": 7,
   "id": "d1bd090a",
   "metadata": {},
   "outputs": [],
   "source": [
    "def select_filter(filapth):\n",
    "    if filepath.endswith(\"cut.tsv\"):\n",
    "        func = lambda x: filter_bits(x, 152)\n",
    "    elif filepath.endswith(\"alnlen.tsv\"):\n",
    "        func = lambda x: filter_bits_alnlen(x, 0.86)\n",
    "    else:\n",
    "        func = None\n",
    "    return func"
   ]
  },
  {
   "cell_type": "code",
   "execution_count": 8,
   "id": "931901b4",
   "metadata": {},
   "outputs": [],
   "source": [
    "def Labeler(inputfile, clanassociation, pf):\n",
    "    filt = select_filter(inputfile)\n",
    "    df_raw = pd.read_csv(inputfile, sep=\"\\t\")\n",
    "    if filt!=None:\n",
    "        df = filt(df_raw)\n",
    "    else:\n",
    "        df = df_raw\n",
    "    df = ExpandSeedAnns(df, clanassociation)\n",
    "    processed_df = df.merge(clanassociation, left_on = \"predpf\", right_on = \"pf\",how=\"left\").drop(\"pf\", axis=1).rename(columns={\"clan\":\"predclan\"})\n",
    "    Labeled_my= LabelAlis(processed_df, pf, clanassociation, [\"qstart\", \"qend\"], how2merge=\"left\")\n",
    "    prefix = pf.columns[1]\n",
    "    Labeled_my = Labeled_my[(Labeled_my[\"isseed\"]!=1 )] #|(Labeled_my[\"equalto\"+ prefix + \"preds\"]==-1 )] ####NOTE: I am discarding Seed annotations for this plot\n",
    "    label = pf.columns[1]\n",
    "    label_dict = {0: \"FP\", 1: \"TP\", -1: \"FN\"}\n",
    "    Labeled_my['labelcol_str']= Labeled_my[\"equalto{}preds\".format(label)].map(label_dict)\n",
    "    #Labeled_my = Labeled_my[Labeled_my[\"bits\"]>=152]\n",
    "    return Labeled_my"
   ]
  },
  {
   "cell_type": "code",
   "execution_count": 9,
   "id": "e5317585",
   "metadata": {},
   "outputs": [],
   "source": [
    "clanassociation = pd.read_csv(\"../PfamClanAssociation.tsv\",header=None, names = [\"pf\", \"clan\"], sep=\"\\t\" )\n",
    "pf = pd.read_csv(\"../PfamTb_SeedMeanlddtSize.txt\",sep=\"\\t\")\n",
    "pfn = pd.read_csv(\"../PfamNTb_SeedMeanlddtSize.txt\",sep=\"\\t\")"
   ]
  },
  {
   "cell_type": "code",
   "execution_count": 3,
   "id": "106ca011",
   "metadata": {},
   "outputs": [],
   "source": [
    "files = [\"../greedy_hits/aln_Tb_pf_fscut.tsv\", \"../greedy_hits/aln_Tb_pf_pdbcut.tsv\",\n",
    "        \"../greedy_hits/aln_Tb_pf_fscut_bits__alnlen.tsv\", \"../greedy_hits/aln_Tb_pf_pdbcut_bits__alnlen.tsv\",\n",
    "        \"../greedy_hits/aln_Tb_pf_seq_gr.tsv\"]"
   ]
  },
  {
   "cell_type": "markdown",
   "id": "40107408",
   "metadata": {},
   "source": [
    "In the following cell, we will find the hypothetical proteins in T. brucei"
   ]
  },
  {
   "cell_type": "code",
   "execution_count": 51,
   "id": "a264b5bb",
   "metadata": {},
   "outputs": [],
   "source": [
    "GeneDesc = pd.read_csv(\"../TriTrybID_description.tsv\", header=None, sep=\"\\t\")\n",
    "GeneDesc[1] = GeneDesc[1].str.lower()\n",
    "mapping = pd.read_csv(\"../MappingFromUnipToTriTrypID.txt\", sep=\"\\t\", header=None)\n",
    "DescUnip = GeneDesc.merge(mapping, left_on = 0, right_on = 0).drop(columns=[0])[[\"1_y\", \"1_x\"]].rename(columns={\"1_y\":\"unipid\", \"1_x\":\"description\"})\n",
    "HypotheticalProteins = GeneDesc[GeneDesc[1].str.contains(\"hypothetical protein\")].merge(mapping, on = [0])\n",
    "HypProts_Unip = HypotheticalProteins[[\"1_y\", \"1_x\"]].rename(columns= {\"1_x\": \"description\", \"1_y\": \"unipid\"})"
   ]
  },
  {
   "cell_type": "code",
   "execution_count": 57,
   "id": "44f3eafb",
   "metadata": {},
   "outputs": [
    {
     "name": "stdout",
     "output_type": "stream",
     "text": [
      "aln_Tb_pf_fscut\t1251\t600\t470\t232.6\tPF13458\t35\t0.17\t230\n",
      "aln_Tb_pf_pdbcut\t1108\t514\t408\t254.3\tPF13458\t31\t0.15\t197\n",
      "aln_Tb_pf_fscut_bits__alnlen\t998\t526\t390\t127.3\tPF12894\t13\t0.21\t185\n",
      "aln_Tb_pf_pdbcut_bits__alnlen\t774\t401\t290\t136.3\tPF10358\t9\t0.18\t148\n",
      "aln_Tb_pf_seq_gr\t336\t341\t156\t68.1\tPF00560\t69\t0.73\t20\n"
     ]
    }
   ],
   "source": [
    "labeled_data = {}\n",
    "for filepath in files:\n",
    "    df_pf = Labeler(filepath, clanassociation, pf)\n",
    "    df_name = os.path.basename(filepath).replace(\".tsv\", \"\")\n",
    "    labeled_data[df_name] = df_pf\n",
    "    new_agpf = df_pf[df_pf[\"equaltopfampreds\"]==-1]\n",
    "    df_pfn= Labeler(filepath, clanassociation, pfn)\n",
    "    new_agpfn= df_pfn[df_pfn[\"equaltopfampreds\"]==-1]\n",
    "    new_both = new_agpf[[\"query\", \"target\"]].merge(new_agpfn)\n",
    "    \n",
    "    new_both_mostfreq = new_both[\"predpf\"].value_counts()[0]\n",
    "    new_both_mostfreqpf = new_both[\"predpf\"].value_counts().index[0]\n",
    "    \n",
    "    mean_len = (new_both[\"qend\"] - new_both[\"qstart\"]).mean() + 1\n",
    "    \n",
    "    fident_mean = new_both[\"fident\"].mean()\n",
    "    \n",
    "    HypNum = HypProts_Unip.merge(new_both, left_on = \"unipid\", right_on = \"query\" )\n",
    "    \n",
    "    print(f\"{df_name}\\t{new_agpf.shape[0]}\\t{new_agpfn.shape[0]}\\t{new_both.shape[0]}\\t{round(mean_len,1)}\\t{new_both_mostfreqpf}\\t{new_both_mostfreq}\\t{round(fident_mean,2)}\\t{HypNum.shape[0]}\")   "
   ]
  }
 ],
 "metadata": {
  "kernelspec": {
   "display_name": "Python 3 (ipykernel)",
   "language": "python",
   "name": "python3"
  },
  "language_info": {
   "codemirror_mode": {
    "name": "ipython",
    "version": 3
   },
   "file_extension": ".py",
   "mimetype": "text/x-python",
   "name": "python",
   "nbconvert_exporter": "python",
   "pygments_lexer": "ipython3",
   "version": "3.11.5"
  }
 },
 "nbformat": 4,
 "nbformat_minor": 5
}
