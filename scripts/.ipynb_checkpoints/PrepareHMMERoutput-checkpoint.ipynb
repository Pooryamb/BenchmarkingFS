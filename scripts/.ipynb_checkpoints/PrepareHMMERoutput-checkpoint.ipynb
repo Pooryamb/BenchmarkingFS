{
 "cells": [
  {
   "cell_type": "code",
   "execution_count": 3,
   "id": "7e9466e4",
   "metadata": {},
   "outputs": [],
   "source": [
    "import pandas as pd"
   ]
  },
  {
   "cell_type": "code",
   "execution_count": 1,
   "id": "58bd4c84",
   "metadata": {},
   "outputs": [],
   "source": [
    "datafile = \"../TbHmmer.domtbl\""
   ]
  },
  {
   "cell_type": "code",
   "execution_count": 2,
   "id": "3cfc718e",
   "metadata": {},
   "outputs": [],
   "source": [
    "header = [\"PfamShortName\", \"target\", \"tlen\", \"query\", \"qacc\", \"qlen\", \"evalue\", \"bits\", \"bias\", \"#\", \"of\", \n",
    "         \"c-Evalue\", \"i-Evalue\", \"dom_bitscore\", \"dom_bias\", \"tstart\", \"tend\", \"qstart\", \"qend\", \"env_start\", \"env_end\",\n",
    "         \"acc\", \"PfamDesc\"]"
   ]
  },
  {
   "cell_type": "code",
   "execution_count": 4,
   "id": "07563257",
   "metadata": {},
   "outputs": [],
   "source": [
    "def process_line(line, num_columns):\n",
    "    parts = line.split(None, num_columns-1)  # Split by the first num_columns-1 whitespaces\n",
    "    return parts    "
   ]
  },
  {
   "cell_type": "code",
   "execution_count": 5,
   "id": "29c1cbec",
   "metadata": {},
   "outputs": [],
   "source": [
    "def ReadAsDataFrame(filepath):\n",
    "    lines = []\n",
    "    with open(filepath, \"r\") as f:\n",
    "        for line in f:\n",
    "            if not line.startswith(\"#\"): \n",
    "                lines.append(process_line(line.strip(), len(header)))\n",
    "    # Convert to DataFrame\n",
    "    df = pd.DataFrame(lines, columns = header)\n",
    "    df = df.apply(pd.to_numeric, errors='ignore')\n",
    "    return df"
   ]
  },
  {
   "cell_type": "code",
   "execution_count": 6,
   "id": "f4c92484",
   "metadata": {},
   "outputs": [],
   "source": [
    "df = ReadAsDataFrame(datafile)"
   ]
  },
  {
   "cell_type": "code",
   "execution_count": 7,
   "id": "85970a9a",
   "metadata": {},
   "outputs": [],
   "source": [
    "df[\"query\"] = df[\"query\"].str.split(\"-\", expand=True)[1]\n",
    "df[\"predpf\"] = df[\"target\"].str.split(\".\", expand=True)[0]\n",
    "df[\"tcov\"] = (df[\"tend\"] - df[\"tstart\"] +1)/df[\"tlen\"]"
   ]
  },
  {
   "cell_type": "code",
   "execution_count": 8,
   "id": "a6978546",
   "metadata": {},
   "outputs": [],
   "source": [
    "def get_non_overlapping_regions(group):\n",
    "    non_overlapping = []\n",
    "    for idx, current in group.iterrows():\n",
    "        overlapping = False\n",
    "        for accepted in non_overlapping:\n",
    "            if (current['qstart'] <= accepted['qend'] and current['qend'] >= accepted['qstart']):\n",
    "                overlapping = True\n",
    "                break\n",
    "        if not overlapping:\n",
    "            non_overlapping.append(current)\n",
    "    return pd.DataFrame(non_overlapping)"
   ]
  },
  {
   "cell_type": "code",
   "execution_count": 9,
   "id": "accde5ed",
   "metadata": {},
   "outputs": [],
   "source": [
    "result = df.groupby(\"query\").apply(get_non_overlapping_regions).reset_index(drop=True)"
   ]
  },
  {
   "cell_type": "code",
   "execution_count": 10,
   "id": "5092397d",
   "metadata": {},
   "outputs": [],
   "source": [
    "result.to_csv(\"../greedy_hits/HmmerGreedyHits.tsv\", sep=\"\\t\", index=None)"
   ]
  }
 ],
 "metadata": {
  "kernelspec": {
   "display_name": "Python 3 (ipykernel)",
   "language": "python",
   "name": "python3"
  },
  "language_info": {
   "codemirror_mode": {
    "name": "ipython",
    "version": 3
   },
   "file_extension": ".py",
   "mimetype": "text/x-python",
   "name": "python",
   "nbconvert_exporter": "python",
   "pygments_lexer": "ipython3",
   "version": "3.11.5"
  }
 },
 "nbformat": 4,
 "nbformat_minor": 5
}
